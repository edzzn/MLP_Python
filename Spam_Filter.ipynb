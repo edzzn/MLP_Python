{
 "cells": [
  {
   "cell_type": "markdown",
   "metadata": {},
   "source": [
    "# Spam email Filter\n",
    "\n",
    "We can follow 2 differnt approaches.\n",
    "\n",
    "__Hand Writen Rules__\n",
    "email -> [Static Rules] -> Spam/Ham\n",
    "\n",
    "This approach is not efficent if:\n",
    "- The rules are dificult to express\n",
    "- The patterns/relationships are dynaminc\n",
    "\n",
    "__Machine learning__\n",
    "In this case we can use a _machine learning_ algorithm. We should have: A large ammount of historical data.\n",
    "\n",
    "email -> [rules] -> Spam/Ham\n",
    "\n",
    "[rules] are dynamic and based on historical data"
   ]
  },
  {
   "cell_type": "code",
   "execution_count": null,
   "metadata": {
    "collapsed": true
   },
   "outputs": [],
   "source": []
  }
 ],
 "metadata": {
  "kernelspec": {
   "display_name": "Python 3",
   "language": "python",
   "name": "python3"
  },
  "language_info": {
   "codemirror_mode": {
    "name": "ipython",
    "version": 3
   },
   "file_extension": ".py",
   "mimetype": "text/x-python",
   "name": "python",
   "nbconvert_exporter": "python",
   "pygments_lexer": "ipython3",
   "version": "3.5.2"
  }
 },
 "nbformat": 4,
 "nbformat_minor": 2
}
