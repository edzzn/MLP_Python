{
 "cells": [
  {
   "cell_type": "markdown",
   "metadata": {},
   "source": [
    "# Natural Langeage Processing\n",
    "\n",
    "\n",
    "\n",
    "## Common Tasks in NLP\n",
    "\n",
    "__Tokenization:__ Taking a big text and breaking it down to smaller chunks\n",
    "\n",
    "__StopWrods Removal:__ Stopwords are words that do not add meaning to the text. There are list of these words and we should remove them before analysis\n",
    "\n",
    "__N-Grams:__ Identify commonly occuring groups of words in a text. ( Usuarlly commonly ocurrent words or groups of words are the most important words of the text)\n",
    "\n",
    "\"New York\" is a _bigram_ beause it has 2 words.. We can gruop words in biggers grupos.\n",
    "\n",
    "__Word sense disambiguation__: We need to indentify the meaning of a word or words based on the context in which they appear\n",
    "\n",
    "\"The movie had really _cool_ effects.\"\n",
    "\"I'd like a tall glass of _cool_ water.\"\n",
    "\n",
    "__Parts-of-Speech:__ Identifes the parts of the speech: Words, Verbs, ... Which part of Speech a particular word is.\n",
    "\n",
    "__Stemming:__ Some words have the same meaning, but their ending is different so they could be considered as differents words:\n",
    "\n",
    "- close\n",
    "- closed\n",
    "- closely\n",
    "- closer \n",
    "\n",
    "If we want to treat these words as they having the same meaning we can _steam_ the words and extract the root of the words\n",
    "\n",
    "- __clos__e\n",
    "- __clos__ed\n",
    "- __clos__ely\n",
    "- __clos__er \n",
    "\n",
    "\n",
    "## Example\n",
    "\n",
    "### Tokenization\n",
    "Tokenize text into sentences and words \n"
   ]
  },
  {
   "cell_type": "code",
   "execution_count": 1,
   "metadata": {
    "collapsed": true
   },
   "outputs": [],
   "source": [
    "# nltk is the Natural Language Tool Kit, Comes built in with funcionality\n",
    "# to perfom the tasks above and more.\n",
    "import nltk"
   ]
  },
  {
   "cell_type": "code",
   "execution_count": 2,
   "metadata": {
    "collapsed": true
   },
   "outputs": [],
   "source": [
    "text = \"Mary had a little lamb. It's fleece was white as snow\"\n",
    "\n",
    "from nltk.tokenize import word_tokenize, sent_tokenize"
   ]
  },
  {
   "cell_type": "code",
   "execution_count": 3,
   "metadata": {},
   "outputs": [
    {
     "name": "stdout",
     "output_type": "stream",
     "text": [
      "['Mary had a little lamb.', \"It's fleece was white as snow\"]\n"
     ]
    }
   ],
   "source": [
    "# Break the text into sentences\n",
    "sents = sent_tokenize(text)\n",
    "print(sents)"
   ]
  },
  {
   "cell_type": "code",
   "execution_count": 4,
   "metadata": {},
   "outputs": [
    {
     "name": "stdout",
     "output_type": "stream",
     "text": [
      "[['Mary', 'had', 'a', 'little', 'lamb', '.'], ['It', \"'s\", 'fleece', 'was', 'white', 'as', 'snow']]\n"
     ]
    }
   ],
   "source": [
    "# Break the text into words\n",
    "words = [word_tokenize(sent) for sent in sents]\n",
    "print(words)"
   ]
  },
  {
   "cell_type": "code",
   "execution_count": 5,
   "metadata": {
    "collapsed": true
   },
   "outputs": [],
   "source": [
    "# Now we remove all the Stop-Words\n",
    "# Words like 'a', 'and', '.'\n",
    "from nltk.corpus import stopwords\n",
    "from string import punctuation\n",
    "\n",
    "customSetStopWords = set(stopwords.words('english') + list(punctuation))"
   ]
  },
  {
   "cell_type": "code",
   "execution_count": 6,
   "metadata": {},
   "outputs": [
    {
     "name": "stdout",
     "output_type": "stream",
     "text": [
      "{'been', '[', 'more', 'yourself', 'out', 'wasn', 'then', 'isn', 'or', 'them', '}', 'own', 'this', 'yours', '#', 'does', '/', '@', 'shouldn', 'before', 'we', 'mightn', 'do', '.', 'until', 'why', 's', 'through', 'our', 'yourselves', 'there', 'themselves', 'up', 'being', 'are', 'for', 'and', 'don', 'if', 'again', 'i', 'too', '%', 'how', 'their', 'should', '<', 'herself', 're', 'doesn', ',', 'who', 'had', ')', 'he', 'what', 'to', 'needn', 'didn', 'few', '~', 'same', 'they', 'because', 'you', 'after', '|', 'nor', 'my', '_', 'is', 'just', 'below', '(', '`', '&', 'at', '-', 'above', 'under', '*', 'on', 'so', 'were', 'its', 'during', 'be', 'as', '$', 'between', 'am', 'his', 'while', 'myself', 'which', 'once', \"'\", 'your', 'couldn', 'whom', 'was', 'such', '{', 'o', 'other', '+', 'd', 'hasn', 'have', 'over', 't', 'shan', 'ours', ':', 'the', ']', 'any', 'will', 'hers', 'theirs', 'now', 'some', 'by', 'no', 'down', 'all', '^', '!', '>', 'mustn', 'wouldn', 'each', 've', 'did', 'y', 'these', 'itself', 'aren', 'against', 'weren', 'an', 'me', 'further', 'here', '\"', 'when', 'having', 'haven', ';', 'won', 'a', 'not', 'of', 'ma', 'doing', 'both', 'ourselves', 'll', 'most', 'in', 'himself', 'about', 'her', 'him', 'off', 'than', 'm', 'where', 'can', 'but', 'very', 'from', 'that', 'ain', 'she', '=', '?', 'those', 'only', 'has', '\\\\', 'into', 'hadn', 'it', 'with'}\n"
     ]
    }
   ],
   "source": [
    "print(customSetStopWords)"
   ]
  },
  {
   "cell_type": "code",
   "execution_count": 7,
   "metadata": {},
   "outputs": [
    {
     "name": "stdout",
     "output_type": "stream",
     "text": [
      "['Mary', 'little', 'lamb', 'It', \"'s\", 'fleece', 'white', 'snow']\n"
     ]
    }
   ],
   "source": [
    "wordsNoStopWords = [word for word in word_tokenize(text) if word not in customSetStopWords]\n",
    "print(wordsNoStopWords)"
   ]
  },
  {
   "cell_type": "code",
   "execution_count": 8,
   "metadata": {},
   "outputs": [
    {
     "data": {
      "text/plain": [
       "[((\"'s\", 'fleece'), 1),\n",
       " (('It', \"'s\"), 1),\n",
       " (('Mary', 'little'), 1),\n",
       " (('fleece', 'white'), 1),\n",
       " (('lamb', 'It'), 1),\n",
       " (('little', 'lamb'), 1),\n",
       " (('white', 'snow'), 1)]"
      ]
     },
     "execution_count": 8,
     "metadata": {},
     "output_type": "execute_result"
    }
   ],
   "source": [
    "# Identify Bigrams\n",
    "from nltk.collocations import *\n",
    "bigram_measures = nltk.collocations.BigramAssocMeasures()\n",
    "# Collocations also allows us to find trigrams\n",
    "\n",
    "finder = BigramCollocationFinder.from_words(wordsNoStopWords)\n",
    "\n",
    "# Bigrams are sorted in the order of their frequency\n",
    "sorted(finder.ngram_fd.items())"
   ]
  },
  {
   "cell_type": "code",
   "execution_count": 9,
   "metadata": {},
   "outputs": [
    {
     "name": "stdout",
     "output_type": "stream",
     "text": [
      "['mary', 'clos', 'on', 'clos', 'night', 'when', 'she', 'was', 'in', 'the', 'mood', 'to', 'clos']\n"
     ]
    }
   ],
   "source": [
    "# Stemming\n",
    "text2 = \"Mary closed on closing night when she was in the mood to close\"\n",
    "\n",
    "# There are several Stemming algorithms. Here we use the Lancaster Stemmer Algorithm\n",
    "from nltk.stem.lancaster import LancasterStemmer\n",
    "st = LancasterStemmer()\n",
    "stemmedWords = [st.stem(word) for word in word_tokenize(text2)]\n",
    "print(stemmedWords)"
   ]
  },
  {
   "cell_type": "code",
   "execution_count": 10,
   "metadata": {},
   "outputs": [
    {
     "data": {
      "text/plain": [
       "[('Mary', 'NNP'),\n",
       " ('closed', 'VBD'),\n",
       " ('on', 'IN'),\n",
       " ('closing', 'NN'),\n",
       " ('night', 'NN'),\n",
       " ('when', 'WRB'),\n",
       " ('she', 'PRP'),\n",
       " ('was', 'VBD'),\n",
       " ('in', 'IN'),\n",
       " ('the', 'DT'),\n",
       " ('mood', 'NN'),\n",
       " ('to', 'TO'),\n",
       " ('close', 'VB')]"
      ]
     },
     "execution_count": 10,
     "metadata": {},
     "output_type": "execute_result"
    }
   ],
   "source": [
    "# Parts-of-Speech\n",
    "# pos_tag PartsOfSpeech_tag\n",
    "nltk.pos_tag(word_tokenize(text2))\n",
    "\n",
    "# We can se a description of every tag ising the following\n",
    "# nltk.help.upenn_tagset()"
   ]
  },
  {
   "cell_type": "code",
   "execution_count": 11,
   "metadata": {},
   "outputs": [
    {
     "name": "stdout",
     "output_type": "stream",
     "text": [
      "Synset('bass.n.01') the lowest part of the musical range\n",
      "Synset('bass.n.02') the lowest part in polyphonic music\n",
      "Synset('bass.n.03') an adult male singer with the lowest voice\n",
      "Synset('sea_bass.n.01') the lean flesh of a saltwater fish of the family Serranidae\n",
      "Synset('freshwater_bass.n.01') any of various North American freshwater fish with lean flesh (especially of the genus Micropterus)\n",
      "Synset('bass.n.06') the lowest adult male singing voice\n",
      "Synset('bass.n.07') the member with the lowest range of a family of musical instruments\n",
      "Synset('bass.n.08') nontechnical name for any of numerous edible marine and freshwater spiny-finned fishes\n",
      "Synset('bass.s.01') having or denoting a low vocal or instrumental range\n"
     ]
    }
   ],
   "source": [
    "# Word Sense Disambiguation:\n",
    "# Identifying the meaning of a word based on its context\n",
    "\n",
    "# In python nltk we use Wordnet, it is a lexicon\n",
    "from nltk.corpus import wordnet as wn\n",
    "\n",
    "for ss in wn.synsets('bass'):\n",
    "    # synset represents one single definition of a word.\n",
    "    print(ss, ss.definition())\n",
    "    # here we print the multiple definitions of the word 'bass'\n"
   ]
  },
  {
   "cell_type": "code",
   "execution_count": 12,
   "metadata": {},
   "outputs": [
    {
     "name": "stdout",
     "output_type": "stream",
     "text": [
      "Synset('bass.n.07') the member with the lowest range of a family of musical instruments\n"
     ]
    }
   ],
   "source": [
    "# lesk is an algorithm for Word Sense Disambiguation\n",
    "from nltk.wsd import lesk\n",
    "\n",
    "text3 = \"Sing in a lower tone, along with the bass\"\n",
    "word = \"bass\"\n",
    "\n",
    "# the lesk funtion takes a set of words: (context, word)\n",
    "# it returns one definition or synset\n",
    "sense1 = lesk(word_tokenize(text3),word)\n",
    "print(sense1, sense1.definition())\n"
   ]
  },
  {
   "cell_type": "code",
   "execution_count": 13,
   "metadata": {},
   "outputs": [
    {
     "name": "stdout",
     "output_type": "stream",
     "text": [
      "Synset('sea_bass.n.01') the lean flesh of a saltwater fish of the family Serranidae\n"
     ]
    }
   ],
   "source": [
    "# another example with the word \"bass\"\n",
    "text4 = \"This sea bass was really hard to cath\"\n",
    "sense2 = lesk(word_tokenize(text4),word)\n",
    "print(sense2, sense2.definition())"
   ]
  },
  {
   "cell_type": "code",
   "execution_count": null,
   "metadata": {
    "collapsed": true
   },
   "outputs": [],
   "source": []
  }
 ],
 "metadata": {
  "celltoolbar": "Raw Cell Format",
  "kernelspec": {
   "display_name": "Python 3",
   "language": "python",
   "name": "python3"
  },
  "language_info": {
   "codemirror_mode": {
    "name": "ipython",
    "version": 3
   },
   "file_extension": ".py",
   "mimetype": "text/x-python",
   "name": "python",
   "nbconvert_exporter": "python",
   "pygments_lexer": "ipython3",
   "version": "3.5.2"
  }
 },
 "nbformat": 4,
 "nbformat_minor": 1
}
